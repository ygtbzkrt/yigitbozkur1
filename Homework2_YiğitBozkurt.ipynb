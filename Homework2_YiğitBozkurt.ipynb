{
 "cells": [
  {
   "cell_type": "code",
   "execution_count": 3,
   "metadata": {},
   "outputs": [],
   "source": [
    "from __future__ import print_function, division\n",
    "%matplotlib inline\n",
    "import numpy as np\n",
    "import pandas as pd\n",
    "import nsfg\n",
    "import first\n",
    "import thinkstats2\n",
    "import thinkplot\n",
    "import numpy as np\n",
    "import pandas"
   ]
  },
  {
   "cell_type": "code",
   "execution_count": 4,
   "metadata": {},
   "outputs": [],
   "source": [
    "resp = nsfg.ReadFemResp() "
   ]
  },
  {
   "cell_type": "code",
   "execution_count": 5,
   "metadata": {},
   "outputs": [],
   "source": [
    "hieduc = resp['hieduc'] \n",
    "list1=[]\n",
    "list2=[]\n",
    "for i in hieduc:\n",
    "    if i<=10:\n",
    "        list1.append(i)\n",
    "    else:\n",
    "        list2.append(i)\n",
    "d1 = {'school' : [list1]}\n",
    "d2={'university' : [list2]}\n",
    "school=pd.DataFrame(d1)\n",
    "university=pd.DataFrame(d2)"
   ]
  },
  {
   "cell_type": "code",
   "execution_count": 18,
   "metadata": {},
   "outputs": [
    {
     "data": {
      "text/plain": [
       "'five descriptive statistics are mean is;3.982075101399974standartdeviation; 10.812288996229674 median: 3.0 min; 1 maximum; 96'"
      ]
     },
     "execution_count": 18,
     "metadata": {},
     "output_type": "execute_result"
    }
   ],
   "source": [
    "agemomb1 = resp['agemomb1'] \n",
    "fivedescriptivestatistic=agemomb1.std(),agemomb1.mean(),agemomb1.median(),agemomb1.min(),agemomb1.max()\n",
    "'five descriptive statistics are mean is;'+str(agemomb1.mean())+'standartdeviation; '+str(agemomb1.std())+' median: '+str(agemomb1.median())+' min; '+str(agemomb1.min())+' maximum; '+str(agemomb1.max())\n"
   ]
  },
  {
   "cell_type": "code",
   "execution_count": 19,
   "metadata": {},
   "outputs": [
    {
     "data": {
      "image/png": "[encoded data removed]",
      "text/plain": [
       "<matplotlib.figure.Figure at 0x22760f662b0>"
      ]
     },
     "metadata": {},
     "output_type": "display_data"
    }
   ],
   "source": [
    "first_cdf = thinkstats2.Cdf(list1, label='first')\n",
    "other_cdf = thinkstats2.Cdf(list2, label='other')\n",
    "\n",
    "thinkplot.PrePlot(2)\n",
    "thinkplot.Cdfs([first_cdf, other_cdf])\n",
    "thinkplot.Config(xlabel='Weight (pounds)', ylabel='CDF')"
   ]
  },
  {
   "cell_type": "code",
   "execution_count": 20,
   "metadata": {},
   "outputs": [
    {
     "data": {
      "image/png": "[encoded data removed]",
      "text/plain": [
       "<matplotlib.figure.Figure at 0x2275fd967f0>"
      ]
     },
     "metadata": {},
     "output_type": "display_data"
    }
   ],
   "source": [
    "width = 0.5 / 20\n",
    "# plot PMFs\n",
    "thinkplot.PrePlot(2)\n",
    "thinkplot.Hist(first_cdf, align='right', width=width)\n",
    "thinkplot.Hist(other_cdf, align='left', width=width)\n",
    "thinkplot.Config(xlabel='Weight (pounds)', ylabel='PMF')"
   ]
  },
  {
   "cell_type": "code",
   "execution_count": null,
   "metadata": {},
   "outputs": [],
   "source": []
  }
 ],
 "metadata": {
  "kernelspec": {
   "display_name": "Python 3",
   "language": "python",
   "name": "python3"
  },
  "language_info": {
   "codemirror_mode": {
    "name": "ipython",
    "version": 3
   },
   "file_extension": ".py",
   "mimetype": "text/x-python",
   "name": "python",
   "nbconvert_exporter": "python",
   "pygments_lexer": "ipython3",
   "version": "3.6.4"
  }
 },
 "nbformat": 4,
 "nbformat_minor": 2
}
