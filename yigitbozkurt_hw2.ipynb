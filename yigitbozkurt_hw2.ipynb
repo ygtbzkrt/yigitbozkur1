{
 "cells": [
  {
   "cell_type": "code",
   "execution_count": 1,
   "metadata": {
    "collapsed": true
   },
   "outputs": [],
   "source": [
    "import nsfg\n",
    "import thinkplot\n",
    "pres = nsfg.ReadFemResp()\n",
    "firstmariage=pres.fmar1age"
   ]
  },
  {
   "cell_type": "code",
   "execution_count": 2,
   "metadata": {
    "collapsed": false
   },
   "outputs": [
    {
     "data": {
      "text/plain": [
       "9.0       1\n",
       "11.0      2\n",
       "12.0      1\n",
       "13.0      3\n",
       "14.0     18\n",
       "15.0     50\n",
       "16.0    115\n",
       "17.0    173\n",
       "18.0    342\n",
       "19.0    328\n",
       "20.0    353\n",
       "21.0    364\n",
       "22.0    381\n",
       "23.0    359\n",
       "24.0    285\n",
       "25.0    261\n",
       "26.0    233\n",
       "27.0    177\n",
       "28.0    150\n",
       "29.0    129\n",
       "30.0     97\n",
       "31.0     72\n",
       "32.0     52\n",
       "33.0     49\n",
       "34.0     29\n",
       "35.0     35\n",
       "36.0     14\n",
       "37.0     14\n",
       "38.0     10\n",
       "39.0     10\n",
       "40.0      7\n",
       "41.0      6\n",
       "42.0      3\n",
       "43.0      3\n",
       "Name: fmar1age, dtype: int64"
      ]
     },
     "execution_count": 2,
     "metadata": {},
     "output_type": "execute_result"
    }
   ],
   "source": [
    "firstmariage.value_counts().sort_index()"
   ]
  },
  {
   "cell_type": "code",
   "execution_count": 7,
   "metadata": {
    "collapsed": false
   },
   "outputs": [],
   "source": [
    "firstmariage_hist=thinkstats2.Hist(firstmariage)\n"
   ]
  },
  {
   "cell_type": "code",
   "execution_count": 8,
   "metadata": {
    "collapsed": true
   },
   "outputs": [],
   "source": [
    "thinkplot.Hist(firstmariage_hist)\n"
   ]
  },
  {
   "cell_type": "code",
   "execution_count": 9,
   "metadata": {
    "collapsed": false
   },
   "outputs": [
    {
     "data": {
      "image/png": "[encoded data removed]",
      "text/plain": [
       "<matplotlib.figure.Figure at 0x14e56630>"
      ]
     },
     "metadata": {},
     "output_type": "display_data"
    }
   ],
   "source": [
    "thinkplot.Show(xlabel=\"age\",ylabel=\"count\")"
   ]
  },
  {
   "cell_type": "code",
   "execution_count": 11,
   "metadata": {
    "collapsed": false
   },
   "outputs": [],
   "source": [
    "num_of_mariage=pres.fmarno"
   ]
  },
  {
   "cell_type": "code",
   "execution_count": 14,
   "metadata": {
    "collapsed": false
   },
   "outputs": [],
   "source": [
    "a=num_of_mariage.value_counts()"
   ]
  },
  {
   "cell_type": "code",
   "execution_count": 15,
   "metadata": {
    "collapsed": false
   },
   "outputs": [
    {
     "data": {
      "text/plain": [
       "0    3517\n",
       "1    3436\n",
       "2     582\n",
       "3      90\n",
       "4      15\n",
       "5       3\n",
       "Name: fmarno, dtype: int64"
      ]
     },
     "execution_count": 15,
     "metadata": {},
     "output_type": "execute_result"
    }
   ],
   "source": [
    "a.sort_index()"
   ]
  },
  {
   "cell_type": "code",
   "execution_count": 19,
   "metadata": {
    "collapsed": false
   },
   "outputs": [],
   "source": [
    "num_of_mariage_hist=thinkstats2.Hist(num_of_mariage)"
   ]
  },
  {
   "cell_type": "code",
   "execution_count": 20,
   "metadata": {
    "collapsed": true
   },
   "outputs": [],
   "source": [
    "thinkplot.Hist(num_of_mariage_hist)"
   ]
  },
  {
   "cell_type": "code",
   "execution_count": 21,
   "metadata": {
    "collapsed": false
   },
   "outputs": [
    {
     "data": {
      "image/png": "[encoded data removed]",
      "text/plain": [
       "<matplotlib.figure.Figure at 0x12d58cf8>"
      ]
     },
     "metadata": {},
     "output_type": "display_data"
    }
   ],
   "source": [
    "thinkplot.Show(xlabel=\"frequencies for each of mariage\",ylabel=\"count\")"
   ]
  },
  {
   "cell_type": "code",
   "execution_count": 24,
   "metadata": {
    "collapsed": true
   },
   "outputs": [],
   "source": [
    "tot_income=pres.totincr"
   ]
  },
  {
   "cell_type": "code",
   "execution_count": 28,
   "metadata": {
    "collapsed": false
   },
   "outputs": [],
   "source": [
    "x=tot_income.value_counts()"
   ]
  },
  {
   "cell_type": "code",
   "execution_count": 30,
   "metadata": {
    "collapsed": false
   },
   "outputs": [
    {
     "data": {
      "text/plain": [
       "1      299\n",
       "2      301\n",
       "3      266\n",
       "4      421\n",
       "5      445\n",
       "6      559\n",
       "7      583\n",
       "8      606\n",
       "9      607\n",
       "10     468\n",
       "11     647\n",
       "12     658\n",
       "13     623\n",
       "14    1160\n",
       "Name: totincr, dtype: int64"
      ]
     },
     "execution_count": 30,
     "metadata": {},
     "output_type": "execute_result"
    }
   ],
   "source": [
    "x.sort_index()"
   ]
  },
  {
   "cell_type": "code",
   "execution_count": 31,
   "metadata": {
    "collapsed": false
   },
   "outputs": [],
   "source": [
    "tot_income_hist=thinkstats2.Hist(tot_income)"
   ]
  },
  {
   "cell_type": "code",
   "execution_count": 100,
   "metadata": {
    "collapsed": false
   },
   "outputs": [
    {
     "data": {
      "image/png": "[encoded data removed]",
      "text/plain": [
       "<matplotlib.figure.Figure at 0x12d707f0>"
      ]
     },
     "metadata": {},
     "output_type": "display_data"
    },
    {
     "data": {
      "text/plain": [
       "<matplotlib.figure.Figure at 0x1201af28>"
      ]
     },
     "metadata": {},
     "output_type": "display_data"
    }
   ],
   "source": [
    "thinkplot.Hist(tot_income_hist,align='right', width=0.5)\n",
    "thinkplot.Show(xlabel=\"values\",ylabel=\"total\")"
   ]
  },
  {
   "cell_type": "code",
   "execution_count": 90,
   "metadata": {
    "collapsed": false
   },
   "outputs": [
    {
     "data": {
      "image/png": "[encoded data removed]",
      "text/plain": [
       "<matplotlib.figure.Figure at 0x147c6198>"
      ]
     },
     "metadata": {},
     "output_type": "display_data"
    }
   ],
   "source": [
    "%matplotlib inline\n",
    "\n",
    "married = pres[pres.fmarno>=1]\n",
    "never_married=pres[pres.fmarno==0]\n",
    "married_hist = thinkstats2.Hist(married.totincr, label='Married')\n",
    "never_married_hist = thinkstats2.Hist(never_married.totincr, label='Never Married')\n",
    "thinkplot.PrePlot(2)\n",
    "thinkplot.Hist(married_hist, align='left', width=0.5)\n",
    "thinkplot.Hist(never_married_hist, align='right', width=0.5)\n",
    "thinkplot.Config(xlabel='Values', ylabel='Incomes')"
   ]
  },
  {
   "cell_type": "code",
   "execution_count": 98,
   "metadata": {
    "collapsed": false
   },
   "outputs": [
    {
     "name": "stdout",
     "output_type": "stream",
     "text": [
      "Never Married Mean :8.02075632641, Never Married Variance :15.846838677, Never Married Standard :3.98080879683 Never Married Minimum Value :1,Never Married Maximum Value :14,Married Mean :9.49515269026, Married Variance :13.7986431646, Married Standard :3.7146524958 Married Min Value :1,Married Maximum Value :14,\n"
     ]
    }
   ],
   "source": [
    "mean = married.totincr.mean()\n",
    "var = married.totincr.var()\n",
    "std = married.totincr.std()\n",
    "minValue = married.totincr.min()\n",
    "maxValue = married.totincr.max()\n",
    "print(\"Never Married Mean :{}, Never Married Variance :{}, Never Married Standard :{} Never Married Minimum Value :{},Never Married Maximum Value :{},Married Mean :{}, Married Variance :{}, Married Standard :{} Married Min Value :{},Married Maximum Value :{},\".format(NeverMean,NeverVar,NeverStd,NeverMinValue,NeverMaxValue,mean,var,std,minValue,maxValue))"
   ]
  },
  {
   "cell_type": "code",
   "execution_count": null,
   "metadata": {
    "collapsed": true
   },
   "outputs": [],
   "source": []
  }
 ],
 "metadata": {
  "kernelspec": {
   "display_name": "Python 2",
   "language": "python",
   "name": "python2"
  },
  "language_info": {
   "codemirror_mode": {
    "name": "ipython",
    "version": 2
   },
   "file_extension": ".py",
   "mimetype": "text/x-python",
   "name": "python",
   "nbconvert_exporter": "python",
   "pygments_lexer": "ipython2",
   "version": "2.7.13"
  }
 },
 "nbformat": 4,
 "nbformat_minor": 2
}
